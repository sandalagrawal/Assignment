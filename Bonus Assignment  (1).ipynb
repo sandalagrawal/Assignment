{
 "cells": [
  {
   "cell_type": "code",
   "execution_count": 2,
   "id": "f854f55c",
   "metadata": {},
   "outputs": [],
   "source": [
    "import time"
   ]
  },
  {
   "cell_type": "markdown",
   "id": "1507d251",
   "metadata": {},
   "source": [
    "### in order to read the txt file, we will use the iterator of the file object. "
   ]
  },
  {
   "cell_type": "code",
   "execution_count": 3,
   "id": "db3ffde0",
   "metadata": {},
   "outputs": [],
   "source": [
    "start = time.time()\n",
    "count=0\n",
    "with open(\"sample_text.txt\") as file:\n",
    "    for line in file:\n",
    "        count = count+1\n",
    "end =  time.time()\n"
   ]
  },
  {
   "cell_type": "markdown",
   "id": "2af1d71f",
   "metadata": {},
   "source": [
    "#### to return the time required to read the entire text file"
   ]
  },
  {
   "cell_type": "code",
   "execution_count": 4,
   "id": "d87c8119",
   "metadata": {},
   "outputs": [
    {
     "name": "stdout",
     "output_type": "stream",
     "text": [
      "0.0043985843658447266\n"
     ]
    }
   ],
   "source": [
    "print(end-start)"
   ]
  },
  {
   "cell_type": "markdown",
   "id": "edd1cb27",
   "metadata": {},
   "source": [
    "#### now to find the most occoured word in the text file"
   ]
  },
  {
   "cell_type": "code",
   "execution_count": 5,
   "id": "ec0b0ddb",
   "metadata": {},
   "outputs": [],
   "source": [
    "file = open(\"sample_text.txt\",\"r\")\n",
    "frequent_word = \"\"\n",
    "frequency = 0 \n",
    "words = []"
   ]
  },
  {
   "cell_type": "code",
   "execution_count": 6,
   "id": "b1e4bf71",
   "metadata": {},
   "outputs": [],
   "source": [
    "for line in file:\n",
    "    word = line.lower().replace(',','').replace('.','').split(\" \"); \n",
    "    for w in word: \n",
    "        words.append(w); "
   ]
  },
  {
   "cell_type": "code",
   "execution_count": null,
   "id": "e453cc24",
   "metadata": {},
   "outputs": [],
   "source": [
    "for i in range(0, len(words)): \n",
    "     \n",
    "    count = 1;  \n",
    "    for j in range(i+1, len(words)): \n",
    "        if(words[i] == words[j]): \n",
    "            count = count + 1; \n",
    "\n",
    "    if(count > frequency): \n",
    "        frequency = count; \n",
    "        frequent_word = words[i]; "
   ]
  },
  {
   "cell_type": "code",
   "execution_count": 11,
   "id": "a5a7dd33",
   "metadata": {},
   "outputs": [
    {
     "name": "stdout",
     "output_type": "stream",
     "text": [
      "sed\n"
     ]
    }
   ],
   "source": [
    "print(frequent_word)"
   ]
  },
  {
   "cell_type": "markdown",
   "id": "54028c87",
   "metadata": {},
   "source": [
    "#### to replace the word"
   ]
  },
  {
   "cell_type": "code",
   "execution_count": 13,
   "id": "993ec68d",
   "metadata": {},
   "outputs": [],
   "source": [
    "import sys\n",
    "import fileinput"
   ]
  },
  {
   "cell_type": "code",
   "execution_count": 1,
   "id": "6d8c6196",
   "metadata": {},
   "outputs": [
    {
     "ename": "NameError",
     "evalue": "name 'frequent_word' is not defined",
     "output_type": "error",
     "traceback": [
      "\u001b[1;31m---------------------------------------------------------------------------\u001b[0m",
      "\u001b[1;31mNameError\u001b[0m                                 Traceback (most recent call last)",
      "Cell \u001b[1;32mIn [1], line 5\u001b[0m\n\u001b[0;32m      3\u001b[0m c \u001b[38;5;241m=\u001b[39m \u001b[38;5;241m0\u001b[39m\n\u001b[0;32m      4\u001b[0m \u001b[38;5;28;01mfor\u001b[39;00m i \u001b[38;5;129;01min\u001b[39;00m l:\n\u001b[1;32m----> 5\u001b[0m     \u001b[38;5;28;01mif\u001b[39;00m \u001b[43mfrequent_word\u001b[49m \u001b[38;5;129;01min\u001b[39;00m i:\n\u001b[0;32m      6\u001b[0m         replacement \u001b[38;5;241m=\u001b[39m i\u001b[38;5;241m.\u001b[39mreplace(frequent_word, loopr)\n\u001b[0;32m      7\u001b[0m         l \u001b[38;5;241m=\u001b[39m replacement\n",
      "\u001b[1;31mNameError\u001b[0m: name 'frequent_word' is not defined"
     ]
    }
   ],
   "source": [
    "f = open(\"sample_text.txt\", \"r+\")\n",
    "l = f.readlines()\n",
    "c = 0\n",
    "for i in l:\n",
    "    if frequent_word in i:\n",
    "        replacement = i.replace(frequent_word, loopr)\n",
    "        l = replacement\n",
    "    c += 1\n",
    "f.truncate(0)\n",
    "f.writelines(l)\n",
    "f.close()\n",
    " \n",
    "\n",
    "\n",
    "\n"
   ]
  },
  {
   "cell_type": "code",
   "execution_count": null,
   "id": "152267e3",
   "metadata": {},
   "outputs": [],
   "source": []
  }
 ],
 "metadata": {
  "kernelspec": {
   "display_name": "Python 3 (ipykernel)",
   "language": "python",
   "name": "python3"
  },
  "language_info": {
   "codemirror_mode": {
    "name": "ipython",
    "version": 3
   },
   "file_extension": ".py",
   "mimetype": "text/x-python",
   "name": "python",
   "nbconvert_exporter": "python",
   "pygments_lexer": "ipython3",
   "version": "3.9.13"
  }
 },
 "nbformat": 4,
 "nbformat_minor": 5
}
